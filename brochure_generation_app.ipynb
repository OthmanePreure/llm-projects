{
 "cells": [
  {
   "cell_type": "code",
   "execution_count": 275,
   "id": "bbf7e6a9-4a77-47ce-b524-ba88c6d8d436",
   "metadata": {},
   "outputs": [],
   "source": [
    "%config Completer.use_jedi = True"
   ]
  },
  {
   "cell_type": "code",
   "execution_count": 276,
   "id": "3a76603f-e25c-4c43-9adc-ba5fa4a54374",
   "metadata": {},
   "outputs": [],
   "source": [
    "import os\n",
    "import requests\n",
    "from bs4 import BeautifulSoup\n",
    "from typing import List\n",
    "from dotenv import load_dotenv\n",
    "from openai import OpenAI\n",
    "import google.generativeai as gemini_model\n",
    "import anthropic\n",
    "import gradio as gr\n",
    "import json"
   ]
  },
  {
   "cell_type": "code",
   "execution_count": 277,
   "id": "88aea104-c7ae-4c35-9145-dd2e4fba3f6a",
   "metadata": {},
   "outputs": [],
   "source": [
    "# This code loads environment variables from a .env file and explicitly sets API keys (OpenAI, Anthropic, and Google)  \n",
    "# in the system's environment using os.environ. This ensures secure access to the API keys within the program.\n",
    "\n",
    "load_dotenv()\n",
    "os.environ['OPENAI_API_KEY'] = os.getenv(\"OPENAI_API_KEY\")\n",
    "os.environ['ANTHROPIC_API_KEY'] = os.getenv(\"ANTHROPIC_API_KEY\")\n",
    "os.environ['GOOGLE_API_KEY'] = os.getenv(\"GOOGLE_API_KEY\")\n"
   ]
  },
  {
   "cell_type": "code",
   "execution_count": 278,
   "id": "b30993c2-bad3-4977-8ffd-07ae8ab722e4",
   "metadata": {},
   "outputs": [],
   "source": [
    "# This code initializes API clients for different AI models:  \n",
    "# - `openai = OpenAI()` creates an instance of the OpenAI API client.  \n",
    "# - `gemini_model.configure()` configures the Gemini model (Google AI), likely setting up parameters or authentication.  \n",
    "\n",
    "openai = OpenAI()\n",
    "gemini_model.configure()\n"
   ]
  },
  {
   "cell_type": "code",
   "execution_count": 279,
   "id": "9dd676a0-5eaf-4fd8-9af6-29aa74729a80",
   "metadata": {},
   "outputs": [
    {
     "data": {
      "text/plain": [
       "['settings.config']"
      ]
     },
     "execution_count": 279,
     "metadata": {},
     "output_type": "execute_result"
    }
   ],
   "source": [
    "import configparser\n",
    "\n",
    "# This code initializes a ConfigParser instance to read configuration settings from a file.  \n",
    "# - `config = configparser.ConfigParser()` creates a parser object for handling configuration files.  \n",
    "# - `config.read('settings.config')` loads and reads the `settings.config` file, making its values accessible in the program.  \n",
    "\n",
    "config = configparser.ConfigParser()\n",
    "config.read('settings.config')\n"
   ]
  },
  {
   "cell_type": "code",
   "execution_count": 280,
   "id": "206041aa-5061-441d-866b-ed0ed5c77b60",
   "metadata": {},
   "outputs": [],
   "source": [
    "from bs4 import BeautifulSoup\n",
    "import requests\n",
    "\n",
    "class WebsiteScrap:\n",
    "    \"\"\"\n",
    "    A class for scraping and extracting textual content and links from a given webpage.\n",
    "\n",
    "    Attributes:\n",
    "    - url (str): The URL of the webpage to scrape.\n",
    "    - title (str): The title of the webpage (or \"No title\" if unavailable).\n",
    "    - text (str): The cleaned textual content of the webpage, excluding styles, scripts, inputs, and images.\n",
    "    - link (list): A list of all valid hyperlinks found on the webpage.\n",
    "    \"\"\"\n",
    "\n",
    "    def __init__(self, url): \n",
    "        self.url = url \n",
    "        response = requests.get(url)\n",
    "        soup = BeautifulSoup(response.content, 'html.parser')\n",
    "\n",
    "        # Extract the title of the webpage\n",
    "        self.title = soup.title.text if soup.title else \"No title\"\n",
    "\n",
    "        # Remove unwanted elements (styles, scripts, input fields, and images)\n",
    "        for nondesired in soup.body(['style', 'script', 'input', 'img']):\n",
    "            nondesired.decompose()\n",
    "\n",
    "        # Extract and clean the text content of the page\n",
    "        self.text = soup.body.get_text(strip=True, separator=\" \")\n",
    "\n",
    "        # Extract all links from the webpage\n",
    "        links = [link['href'] for link in soup.find_all('a', href=True)]\n",
    "        self.link = [link for link in links if link]\n",
    "\n",
    "    def get_contents(self):\n",
    "        \"\"\"Returns a formatted string containing the webpage title and its extracted text content.\"\"\"\n",
    "        return f\"Webpage Title:\\n{self.title}\\nWebpage Contents:\\n{self.text}\\n\\n\"\n"
   ]
  },
  {
   "cell_type": "code",
   "execution_count": 281,
   "id": "c18a99e2-eebc-422b-95bb-bc82eeae718d",
   "metadata": {},
   "outputs": [],
   "source": [
    "import json\n",
    "\n",
    "class StructureLinks: \n",
    "    \"\"\"\n",
    "    A class for extracting, structuring, and retrieving webpage content and its related links \n",
    "    using AI models (GPT-4o-mini and Gemini-2.0).\n",
    "\n",
    "    Attributes:\n",
    "    - link_system_prompt (str): System-level prompt for guiding the AI's response.\n",
    "    - link_user_prompt (str): User-specific prompt formatted with webpage title and links.\n",
    "    - reponse (dict): Stores the structured JSON response from AI models.\n",
    "    - web (WebsiteScrap): Instance of the WebsiteScrap class representing the main webpage.\n",
    "    \"\"\"\n",
    "\n",
    "    def __init__(self, website, config): \n",
    "        self.link_system_prompt = config.get('PROMPT', 'link_system_prompt')\n",
    "        self.link_user_prompt = config.get('PROMPT', 'link_user_prompt')\n",
    "        self.link_user_prompt = self.link_user_prompt.format(title=website.title, link=website.link)\n",
    "        \n",
    "        self.reponse = \"\"  # Stores the AI-generated structured response\n",
    "        self.web = website  # Stores the main webpage object\n",
    "\n",
    "    def get_json_response_gpt_model(self): \n",
    "        \"\"\"Fetches a structured JSON response from OpenAI's GPT-4o-mini model.\"\"\"\n",
    "        completion = openai.chat.completions.create(\n",
    "            model=\"gpt-4o-mini\",\n",
    "            messages=[\n",
    "                {\"role\": \"system\", \"content\": self.link_system_prompt},\n",
    "                {\"role\": \"user\", \"content\": self.link_user_prompt}\n",
    "            ],\n",
    "            response_format={\"type\": \"json_object\"},\n",
    "        )\n",
    "\n",
    "        result = completion.choices[0].message.content\n",
    "        self.reponse = json.loads(result)  # Parse the JSON response\n",
    "\n",
    "    def get_json_response_gemini_model(self): \n",
    "        \"\"\"Fetches a structured JSON response from Google's Gemini-2.0 AI model.\"\"\"\n",
    "        \n",
    "        completion = gemini_model.GenerativeModel(\n",
    "            model_name=\"gemini-2.0-flash-exp\",\n",
    "            system_instruction=self.link_system_prompt,\n",
    "            generation_config={\"response_mime_type\": \"application/json\"}  \n",
    "        )\n",
    "\n",
    "        result = completion.generate_content(self.link_user_prompt)\n",
    "        print(\"Raw Gemini Response:\", result.text)  \n",
    "\n",
    "        # Ensure the response is not empty or whitespace\n",
    "        if not result.text.strip():  \n",
    "            print(\"The response is empty or contains only spaces.\")\n",
    "            self.reponse = {}\n",
    "        else:\n",
    "            try:\n",
    "                self.reponse = json.loads(result.text)  # Parse JSON response\n",
    "                print(\"Successfully decoded response:\", self.reponse)\n",
    "            except json.JSONDecodeError as e:\n",
    "                print(f\"JSON decoding error: {e}\")\n",
    "                self.reponse = {}\n",
    "\n",
    "    def get_sub_link_content(self): \n",
    "        \"\"\"\n",
    "        Retrieves and combines the content of the main webpage with AI-structured sub-links.\n",
    "\n",
    "        Returns:\n",
    "        - (str): A formatted string containing the main webpage content and extracted sub-links.\n",
    "        \"\"\"\n",
    "        result = \"Landing page \\n\"\n",
    "        result += self.web.get_contents()\n",
    "\n",
    "        # Extract content from sub-links categorized by the AI model\n",
    "        for rep in self.reponse.get('links', []):  \n",
    "            result += f\"\\n\\n {rep['type']},\\n\"\n",
    "            result += WebsiteScrap(rep[\"url\"]).get_contents()\n",
    "\n",
    "        return result\n"
   ]
  },
  {
   "cell_type": "code",
   "execution_count": 282,
   "id": "34639e0f-b360-49e6-941f-2c99121d6523",
   "metadata": {},
   "outputs": [],
   "source": [
    "class BrochureGeneration:\n",
    "    \"\"\"\n",
    "    A class for generating a company brochure by extracting and structuring web content\n",
    "    using AI models (GPT-4o-mini or Gemini).\n",
    "\n",
    "    Attributes:\n",
    "    - links (StructureLinks): An instance of StructureLinks to process web links.\n",
    "    - web (WebsiteScrap): An instance of WebsiteScrap to scrape the main webpage.\n",
    "    - config (ConfigParser): Configuration settings containing AI prompts.\n",
    "    - system_prompt (str): System-level prompt for structuring the AI response.\n",
    "    - user_prompt (str): User-specific prompt formatted with company details.\n",
    "    \"\"\"\n",
    "\n",
    "    def __init__(self, website, link, config):\n",
    "        self.links = link\n",
    "        self.web = website\n",
    "        self.config = config\n",
    "        self.system_prompt = self.config.get('PROMPT', 'brochure_system_prompt')\n",
    "        self.user_prompt = self.config.get('PROMPT', 'brochure_user_prompt')\n",
    "\n",
    "    def get_brochure(self, company_name, url, model_name):\n",
    "        \"\"\"\n",
    "        Generates a company brochure using AI models by extracting content from the given URL.\n",
    "\n",
    "        Parameters:\n",
    "        - company_name (str): Name of the company for which the brochure is being generated.\n",
    "        - url (str): Website URL to extract information from.\n",
    "        - model_name (str): AI model to use for structuring the content ('GPT' or 'gemini').\n",
    "        \"\"\"\n",
    "        \n",
    "        # Reinitialize the website scraping and link processing objects with the provided URL\n",
    "        self.web = self.web(url)\n",
    "        self.links = self.links(self.web, self.config)\n",
    "        \n",
    "        # Format the user prompt with the company's name\n",
    "        self.user_prompt = self.user_prompt.format(company_name=company_name)\n",
    "        \n",
    "        # Use the selected AI model to process and structure the webpage links\n",
    "        if model_name == \"GPT\":\n",
    "            self.links.get_json_response_gpt_model()\n",
    "        elif model_name == \"gemini\":\n",
    "            self.links.get_json_response_gemini_model()\n",
    "\n",
    "        # Append extracted sub-link content to the AI prompt\n",
    "        self.user_prompt += \"\\n\\n\" + self.links.get_sub_link_content()\n",
    "        \n",
    "        # Stream AI-generated content for the brochure\n",
    "        stream = openai.chat.completions.create(\n",
    "            model=\"gpt-4o-mini\",\n",
    "            messages=[\n",
    "                {\"role\": \"system\", \"content\": self.system_prompt},\n",
    "                {\"role\": \"user\", \"content\": self.user_prompt}\n",
    "            ],\n",
    "            stream=True\n",
    "        )\n",
    "\n",
    "        response = \"\"\n",
    "        print(\"hello\")  # Debugging statement\n",
    "        \n",
    "        for chunk in stream:\n",
    "            response += chunk.choices[0].delta.content or \"\"\n",
    "            yield response\n"
   ]
  },
  {
   "cell_type": "code",
   "execution_count": 283,
   "id": "91a27229-a1ba-4cbb-87bb-2132444da6b2",
   "metadata": {},
   "outputs": [
    {
     "name": "stdout",
     "output_type": "stream",
     "text": [
      "* Running on local URL:  http://127.0.0.1:7878\n",
      "\n",
      "To create a public link, set `share=True` in `launch()`.\n"
     ]
    },
    {
     "data": {
      "text/html": [
       "<div><iframe src=\"http://127.0.0.1:7878/\" width=\"100%\" height=\"500\" allow=\"autoplay; camera; microphone; clipboard-read; clipboard-write;\" frameborder=\"0\" allowfullscreen></iframe></div>"
      ],
      "text/plain": [
       "<IPython.core.display.HTML object>"
      ]
     },
     "metadata": {},
     "output_type": "display_data"
    },
    {
     "data": {
      "text/plain": []
     },
     "execution_count": 283,
     "metadata": {},
     "output_type": "execute_result"
    },
    {
     "name": "stdout",
     "output_type": "stream",
     "text": [
      "hello\n"
     ]
    }
   ],
   "source": [
    "import gradio as gr\n",
    "\n",
    "# Initialize the BrochureGeneration class with WebsiteScrap, StructureLinks, and the config\n",
    "brochure = BrochureGeneration(WebsiteScrap, StructureLinks, config)\n",
    "\n",
    "# Create a Gradio interface to interact with the brochure generation process\n",
    "view = gr.Interface(\n",
    "    fn=brochure.get_brochure,  # The function that will be called when the user interacts with the interface\n",
    "    inputs=[  # The inputs that the user will provide through the UI\n",
    "        gr.Textbox(label=\"Company name:\"),  # Textbox for the company name\n",
    "        gr.Textbox(label=\"Landing page URL including http:// or https://\"),  # Textbox for the URL of the landing page\n",
    "        gr.Dropdown([\"GPT\", \"gemini\"], label=\"Select model\")  # Dropdown to select the AI model (GPT or Gemini)\n",
    "    ],\n",
    "    outputs=[gr.Markdown(label=\"Brochure:\")],  # The output will be a Markdown area to display the generated brochure\n",
    "    flagging_mode=\"never\"  # Flagging mode is disabled in this case\n",
    ")\n",
    "\n",
    "# Launch the Gradio interface\n",
    "view.launch()\n"
   ]
  },
  {
   "cell_type": "code",
   "execution_count": null,
   "id": "a8db295f-aae8-4c25-8067-16969ecaff92",
   "metadata": {},
   "outputs": [],
   "source": []
  },
  {
   "cell_type": "code",
   "execution_count": null,
   "id": "65d6bd19-ef8c-40f8-bf2b-dec29ffbde46",
   "metadata": {},
   "outputs": [],
   "source": []
  }
 ],
 "metadata": {
  "kernelspec": {
   "display_name": "Python 3 (ipykernel)",
   "language": "python",
   "name": "python3"
  },
  "language_info": {
   "codemirror_mode": {
    "name": "ipython",
    "version": 3
   },
   "file_extension": ".py",
   "mimetype": "text/x-python",
   "name": "python",
   "nbconvert_exporter": "python",
   "pygments_lexer": "ipython3",
   "version": "3.11.11"
  }
 },
 "nbformat": 4,
 "nbformat_minor": 5
}
